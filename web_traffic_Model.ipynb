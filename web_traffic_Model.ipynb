{
 "cells": [
  {
   "cell_type": "code",
   "execution_count": 1,
   "source": [
    "import pandas as pd\r\n",
    "import numpy as np\r\n",
    "from scipy import stats\r\n",
    "from sklearn.preprocessing import LabelEncoder"
   ],
   "outputs": [],
   "metadata": {}
  },
  {
   "cell_type": "code",
   "execution_count": 2,
   "source": [
    "train=pd.read_csv('train_2.csv')\r\n",
    "key=pd.read_csv('key_2.csv')"
   ],
   "outputs": [],
   "metadata": {}
  },
  {
   "cell_type": "code",
   "execution_count": 3,
   "source": [
    "train[[\"topic\",\"lang\",\"access\",\"type\"]]=train[\"Page\"].str.extract(r'(?P<topic>.*)\\_(?P<lang>.*).wikipedia.org\\_(?P<access>.*)\\_(?P<type>.*)')"
   ],
   "outputs": [],
   "metadata": {}
  },
  {
   "cell_type": "markdown",
   "source": [
    "## Data preperation\r\n",
    "\r\n",
    "### Applying log transformation"
   ],
   "metadata": {}
  },
  {
   "cell_type": "code",
   "execution_count": 4,
   "source": [
    "def log(X):\r\n",
    "    return np.log10(X + 1.0)\r\n",
    "def unlog(X):\r\n",
    "    return np.clip(np.power(10., X) - 1.0, 0.0, None)"
   ],
   "outputs": [],
   "metadata": {}
  },
  {
   "cell_type": "code",
   "execution_count": 5,
   "source": [
    "data=train.select_dtypes(exclude='O').fillna(0)"
   ],
   "outputs": [],
   "metadata": {}
  },
  {
   "cell_type": "code",
   "execution_count": 6,
   "source": [
    "data=log(data)"
   ],
   "outputs": [],
   "metadata": {}
  },
  {
   "cell_type": "code",
   "execution_count": 7,
   "source": [
    "features=train.select_dtypes(exclude='number')\r\n",
    "features=features.drop(features[['Page','topic',]],axis=1)"
   ],
   "outputs": [],
   "metadata": {}
  },
  {
   "cell_type": "markdown",
   "source": [
    "## Numerical features"
   ],
   "metadata": {}
  },
  {
   "cell_type": "code",
   "execution_count": 8,
   "source": [
    "stats_feats=pd.DataFrame()\r\n",
    "stats_feats['mean']=np.mean(data,axis=1)\r\n",
    "stats_feats['median']=np.median(data,axis=1)\r\n",
    "stats_feats['std']=np.std(data,axis=1)\r\n",
    "\r\n",
    "stats_feats['percentile_25']=np.quantile(data,axis=1,q=0.25)\r\n",
    "stats_feats['percentile_50']=np.quantile(data,axis=1,q=0.50)\r\n",
    "stats_feats['percentile_75'] =np.quantile(data,axis=1,q=0.75)\r\n",
    "stats_feats['percentile_90'] = np.quantile(data,axis=1,q=0.90)\r\n",
    "\r\n",
    "stats_feats[\"Kurt\"] = stats.kurtosis(data,axis=1)\r\n",
    "stats_feats[\"skewness\"] = stats.skew(data,axis=1)"
   ],
   "outputs": [],
   "metadata": {}
  },
  {
   "cell_type": "markdown",
   "source": [
    "## Handling categorical features"
   ],
   "metadata": {}
  },
  {
   "cell_type": "code",
   "execution_count": 9,
   "source": [
    "def handling_cat_features(df):\r\n",
    "    le=LabelEncoder()\r\n",
    "    cat_features=df.apply(le.fit_transform)\r\n",
    "    return cat_features\r\n",
    "\r\n",
    "\r\n",
    "handled_cat_features=handling_cat_features(features)"
   ],
   "outputs": [],
   "metadata": {}
  },
  {
   "cell_type": "code",
   "execution_count": 10,
   "source": [
    "def reshape(df):\r\n",
    "    return df.reshape((df.shape[0],df.shape[1],1))\r\n",
    "\r\n",
    "def prepare_data(train,x_length,y_length,moving_window=32):\r\n",
    "    \r\n",
    "    #train_x_dates = train.iloc[:,-x_length-y_length:-y_length].columns\r\n",
    "    #train_y_dates = train.iloc[:,-y_length:].columns\r\n",
    "    train_x = reshape(train.iloc[:,-x_length-y_length-32:-y_length-32].values)\r\n",
    "    train_y = reshape(train.iloc[:,-y_length-32:-32].values)\r\n",
    "    \r\n",
    "    val_x = reshape(train.iloc[:,-x_length-y_length:-y_length].values)\r\n",
    "    val_y = reshape(train.iloc[:,-y_length:].values)\r\n",
    "    \r\n",
    "    test_x = reshape(train.iloc[:,-x_length:].values)\r\n",
    "   \r\n",
    "    return train_x,train_y,val_x,val_y,test_x\r\n"
   ],
   "outputs": [],
   "metadata": {}
  },
  {
   "cell_type": "code",
   "execution_count": 11,
   "source": [
    "x_length=100 #taking last 100 years\r\n",
    "y_length=64 #to predict the next 64 days"
   ],
   "outputs": [],
   "metadata": {}
  },
  {
   "cell_type": "code",
   "execution_count": 12,
   "source": [
    "train_x,train_y,val_x,val_y,test_x=prepare_data(data,100,64)"
   ],
   "outputs": [],
   "metadata": {}
  },
  {
   "cell_type": "code",
   "execution_count": 18,
   "source": [
    "import tensorflow.keras.backend as K \r\n",
    "def k_smape(y_true,y_pred):\r\n",
    "    diff = K.abs((y_true-y_pred)/K.clip(K.abs(y_true) + K.abs(y_pred),K.epsilon(),None))\r\n",
    "    return 200.0*K.mean(diff,axis=-1)"
   ],
   "outputs": [],
   "metadata": {}
  },
  {
   "cell_type": "markdown",
   "source": [
    "## Training CNN1D"
   ],
   "metadata": {}
  },
  {
   "cell_type": "code",
   "execution_count": 53,
   "source": [
    "import tensorflow\r\n",
    "from tensorflow.keras.models import Sequential\r\n",
    "from tensorflow.keras.layers import Conv1D, LSTM, Dense, TimeDistributed\r\n",
    "from tensorflow.keras.layers import Dropout,Flatten\r\n",
    "from tensorflow.keras.layers import MaxPooling1D\r\n",
    "from tensorflow.keras.optimizers import Adam"
   ],
   "outputs": [],
   "metadata": {}
  },
  {
   "cell_type": "code",
   "execution_count": 36,
   "source": [
    "model=Sequential()\r\n",
    "\r\n",
    "model.add(Conv1D(128,kernel_size=3,input_shape=(x_length,1),activation='relu'))\r\n",
    "model.add(Conv1D(64,activation='relu',kernel_size=3))\r\n",
    "model.add(MaxPooling1D(pool_size=2))\r\n",
    "model.add(Dropout(0.25))\r\n",
    "model.add(Flatten())\r\n",
    "model.add(Dense(64))"
   ],
   "outputs": [],
   "metadata": {}
  },
  {
   "cell_type": "code",
   "execution_count": 37,
   "source": [
    "model.compile(optimizer=Adam(), metrics=[k_smape],loss='mean_absolute_error')\r\n",
    "model.summary()"
   ],
   "outputs": [
    {
     "output_type": "stream",
     "name": "stdout",
     "text": [
      "Model: \"sequential_4\"\n",
      "_________________________________________________________________\n",
      "Layer (type)                 Output Shape              Param #   \n",
      "=================================================================\n",
      "conv1d_5 (Conv1D)            (None, 98, 128)           512       \n",
      "_________________________________________________________________\n",
      "conv1d_6 (Conv1D)            (None, 96, 64)            24640     \n",
      "_________________________________________________________________\n",
      "max_pooling1d_2 (MaxPooling1 (None, 48, 64)            0         \n",
      "_________________________________________________________________\n",
      "dropout_1 (Dropout)          (None, 48, 64)            0         \n",
      "_________________________________________________________________\n",
      "flatten_1 (Flatten)          (None, 3072)              0         \n",
      "_________________________________________________________________\n",
      "dense_1 (Dense)              (None, 64)                196672    \n",
      "=================================================================\n",
      "Total params: 221,824\n",
      "Trainable params: 221,824\n",
      "Non-trainable params: 0\n",
      "_________________________________________________________________\n"
     ]
    }
   ],
   "metadata": {}
  },
  {
   "cell_type": "code",
   "execution_count": 44,
   "source": [
    "history=model.fit(train_x,train_y,epochs=20,batch_size=100,validation_data=(val_x,val_y))"
   ],
   "outputs": [
    {
     "output_type": "stream",
     "name": "stdout",
     "text": [
      "Epoch 1/20\n",
      "1451/1451 [==============================] - 86s 60ms/step - loss: 0.1606 - k_smape: 18.7528 - val_loss: 0.1736 - val_k_smape: 19.8059\n",
      "Epoch 2/20\n",
      "1451/1451 [==============================] - 86s 59ms/step - loss: 0.1605 - k_smape: 18.7618 - val_loss: 0.1770 - val_k_smape: 19.6625\n",
      "Epoch 3/20\n",
      "1451/1451 [==============================] - 68s 47ms/step - loss: 0.1602 - k_smape: 18.7497 - val_loss: 0.1729 - val_k_smape: 19.2825\n",
      "Epoch 4/20\n",
      "1451/1451 [==============================] - 78s 54ms/step - loss: 0.1602 - k_smape: 18.7396 - val_loss: 0.1769 - val_k_smape: 19.9294\n",
      "Epoch 5/20\n",
      "1451/1451 [==============================] - 67s 46ms/step - loss: 0.1602 - k_smape: 18.7418 - val_loss: 0.1713 - val_k_smape: 19.3775\n",
      "Epoch 6/20\n",
      "1451/1451 [==============================] - 67s 46ms/step - loss: 0.1601 - k_smape: 18.7392 - val_loss: 0.1712 - val_k_smape: 19.2522\n",
      "Epoch 7/20\n",
      "1451/1451 [==============================] - 67s 46ms/step - loss: 0.1601 - k_smape: 18.7348 - val_loss: 0.1706 - val_k_smape: 19.2956\n",
      "Epoch 8/20\n",
      "1451/1451 [==============================] - 81s 56ms/step - loss: 0.1598 - k_smape: 18.7166 - val_loss: 0.1713 - val_k_smape: 19.2268\n",
      "Epoch 9/20\n",
      "1451/1451 [==============================] - 77s 53ms/step - loss: 0.1598 - k_smape: 18.7276 - val_loss: 0.1710 - val_k_smape: 18.9924\n",
      "Epoch 10/20\n",
      "1451/1451 [==============================] - 85s 58ms/step - loss: 0.1598 - k_smape: 18.7153 - val_loss: 0.1757 - val_k_smape: 19.4359\n",
      "Epoch 11/20\n",
      "1451/1451 [==============================] - 80s 55ms/step - loss: 0.1598 - k_smape: 18.7163 - val_loss: 0.1712 - val_k_smape: 19.1657\n",
      "Epoch 12/20\n",
      "1451/1451 [==============================] - 83s 57ms/step - loss: 0.1596 - k_smape: 18.7091 - val_loss: 0.1709 - val_k_smape: 19.3906\n",
      "Epoch 13/20\n",
      "1451/1451 [==============================] - 84s 58ms/step - loss: 0.1598 - k_smape: 18.7195 - val_loss: 0.1709 - val_k_smape: 19.2741\n",
      "Epoch 14/20\n",
      "1451/1451 [==============================] - 78s 54ms/step - loss: 0.1595 - k_smape: 18.6997 - val_loss: 0.1703 - val_k_smape: 19.3867\n",
      "Epoch 15/20\n",
      "1451/1451 [==============================] - 69s 47ms/step - loss: 0.1596 - k_smape: 18.7107 - val_loss: 0.1707 - val_k_smape: 19.2531\n",
      "Epoch 16/20\n",
      "1451/1451 [==============================] - 67s 47ms/step - loss: 0.1594 - k_smape: 18.7048 - val_loss: 0.1721 - val_k_smape: 19.3455\n",
      "Epoch 17/20\n",
      "1451/1451 [==============================] - 68s 47ms/step - loss: 0.1595 - k_smape: 18.7141 - val_loss: 0.1769 - val_k_smape: 19.8524\n",
      "Epoch 18/20\n",
      "1451/1451 [==============================] - 69s 48ms/step - loss: 0.1593 - k_smape: 18.6916 - val_loss: 0.1719 - val_k_smape: 19.6524\n",
      "Epoch 19/20\n",
      "1451/1451 [==============================] - 77s 53ms/step - loss: 0.1594 - k_smape: 18.6941 - val_loss: 0.1719 - val_k_smape: 19.6296\n",
      "Epoch 20/20\n",
      "1451/1451 [==============================] - 81s 56ms/step - loss: 0.1594 - k_smape: 18.6943 - val_loss: 0.1796 - val_k_smape: 20.0397\n"
     ]
    }
   ],
   "metadata": {}
  },
  {
   "cell_type": "code",
   "execution_count": 45,
   "source": [
    "score=model.evaluate(val_x,val_y,verbose=0)\r\n",
    "\r\n",
    "print('Symmetric Mean Absolute Percentage Error is: ', score[1])"
   ],
   "outputs": [
    {
     "output_type": "stream",
     "name": "stdout",
     "text": [
      "Symmetric Mean Absolute Percentage Error is:  20.039730072021484\n"
     ]
    }
   ],
   "metadata": {}
  },
  {
   "cell_type": "code",
   "execution_count": 47,
   "source": [
    "#This function is used to update the plots for each epoch and error\r\n",
    "def plt_dynamic(x,vy,ty,ax,colors=['b']):\r\n",
    "  ax.plot(x,vy,'b',label='Validation Loss')\r\n",
    "  ax.plot(x,ty,'r',label='Train loss')\r\n",
    "  plt.legend()\r\n",
    "  plt.grid()\r\n",
    "  fig.canvas.draw()"
   ],
   "outputs": [],
   "metadata": {}
  },
  {
   "cell_type": "code",
   "execution_count": 49,
   "source": [
    "import matplotlib.pyplot as plt\r\n",
    "\r\n",
    "fig,ax=plt.subplots(1,1)\r\n",
    "ax.set_xlabel('epoch');ax.set_ylabel('Symmetric Mean Absolute Percentage Error')\r\n",
    "\r\n",
    "x=list(range(1,20+1))\r\n",
    "\r\n",
    "vy = history.history['val_loss']\r\n",
    "ty = history.history['loss']\r\n",
    "plt_dynamic(x, vy, ty, ax)"
   ],
   "outputs": [
    {
     "output_type": "display_data",
     "data": {
      "image/png": "[encoded data removed]",
      "text/plain": [
       "<Figure size 432x288 with 1 Axes>"
      ]
     },
     "metadata": {
      "needs_background": "light"
     }
    }
   ],
   "metadata": {}
  },
  {
   "cell_type": "markdown",
   "source": [
    "## Training LSTM model"
   ],
   "metadata": {}
  },
  {
   "cell_type": "code",
   "execution_count": 65,
   "source": [
    "lstm_model=Sequential()\r\n",
    "lstm_model.add(LSTM(128,activation='relu',input_shape=(None,1)))\r\n",
    "lstm_model.add(Dense(64,activation='relu'))\r\n",
    "lstm_model.add(Flatten())\r\n",
    "lstm_model.add(Dense(1,activation='linear'))"
   ],
   "outputs": [],
   "metadata": {}
  },
  {
   "cell_type": "code",
   "execution_count": 66,
   "source": [
    "lstm_model.compile(optimizer=Adam(),metrics=[k_smape],loss='mean_absolute_error')\r\n",
    "lstm_model.summary()"
   ],
   "outputs": [
    {
     "output_type": "stream",
     "name": "stdout",
     "text": [
      "Model: \"sequential_19\"\n",
      "_________________________________________________________________\n",
      "Layer (type)                 Output Shape              Param #   \n",
      "=================================================================\n",
      "lstm_14 (LSTM)               (None, 128)               66560     \n",
      "_________________________________________________________________\n",
      "dense_3 (Dense)              (None, 64)                8256      \n",
      "_________________________________________________________________\n",
      "flatten_2 (Flatten)          (None, 64)                0         \n",
      "_________________________________________________________________\n",
      "dense_4 (Dense)              (None, 1)                 65        \n",
      "=================================================================\n",
      "Total params: 74,881\n",
      "Trainable params: 74,881\n",
      "Non-trainable params: 0\n",
      "_________________________________________________________________\n"
     ]
    }
   ],
   "metadata": {}
  },
  {
   "cell_type": "code",
   "execution_count": 67,
   "source": [
    "history=lstm_model.fit(train_x,train_y,epochs=20,batch_size=100,validation_data=(val_x,val_y))"
   ],
   "outputs": [
    {
     "output_type": "stream",
     "name": "stdout",
     "text": [
      "Epoch 1/20\n",
      "1451/1451 [==============================] - 261s 177ms/step - loss: 192.7797 - k_smape: 25.9063 - val_loss: 0.1793 - val_k_smape: 19.8370\n",
      "Epoch 2/20\n",
      "1451/1451 [==============================] - 254s 175ms/step - loss: 447774949376.0000 - k_smape: 26.5728 - val_loss: 70.7064 - val_k_smape: 26.4165\n",
      "Epoch 3/20\n",
      "1451/1451 [==============================] - 265s 183ms/step - loss: 47.3661 - k_smape: 23.3750 - val_loss: 13.4426 - val_k_smape: 23.8637\n",
      "Epoch 4/20\n",
      "1451/1451 [==============================] - 296s 204ms/step - loss: 11.9032 - k_smape: 21.6476 - val_loss: 20.6088 - val_k_smape: 22.2744\n",
      "Epoch 5/20\n",
      "1451/1451 [==============================] - 258s 178ms/step - loss: 9.3476 - k_smape: 20.6154 - val_loss: 12.1093 - val_k_smape: 20.6329\n",
      "Epoch 6/20\n",
      "1451/1451 [==============================] - 246s 169ms/step - loss: 25.7930 - k_smape: 20.0237 - val_loss: 9.4730 - val_k_smape: 21.7323\n",
      "Epoch 7/20\n",
      "1451/1451 [==============================] - 244s 168ms/step - loss: 13.5672 - k_smape: 20.4248 - val_loss: 11.2249 - val_k_smape: 21.0300\n",
      "Epoch 8/20\n",
      "1451/1451 [==============================] - 254s 175ms/step - loss: 295.5277 - k_smape: 20.9236 - val_loss: 89.0191 - val_k_smape: 19.9438\n",
      "Epoch 9/20\n",
      "1451/1451 [==============================] - 271s 187ms/step - loss: 306.4601 - k_smape: 20.2177 - val_loss: 76.1472 - val_k_smape: 21.2985\n",
      "Epoch 10/20\n",
      "1451/1451 [==============================] - 279s 192ms/step - loss: 55.5113 - k_smape: 20.2177 - val_loss: 109.5642 - val_k_smape: 20.9767\n",
      "Epoch 11/20\n",
      "1451/1451 [==============================] - 275s 189ms/step - loss: 69.3353 - k_smape: 20.1938 - val_loss: 8.4710 - val_k_smape: 21.3323\n",
      "Epoch 12/20\n",
      "1451/1451 [==============================] - 258s 178ms/step - loss: 486.2328 - k_smape: 21.0679 - val_loss: 3587.4524 - val_k_smape: 20.8859\n",
      "Epoch 13/20\n",
      "1451/1451 [==============================] - 260s 179ms/step - loss: 267.1013 - k_smape: 19.8021 - val_loss: 24.9771 - val_k_smape: 21.2282\n",
      "Epoch 14/20\n",
      "1451/1451 [==============================] - 258s 178ms/step - loss: 22.8858 - k_smape: 20.0461 - val_loss: 21.0220 - val_k_smape: 21.1320\n",
      "Epoch 15/20\n",
      "1451/1451 [==============================] - 251s 173ms/step - loss: 7.7368 - k_smape: 20.1910 - val_loss: 2.8738 - val_k_smape: 21.6673\n",
      "Epoch 16/20\n",
      "1451/1451 [==============================] - 248s 171ms/step - loss: 62.2822 - k_smape: 20.3015 - val_loss: 121.7285 - val_k_smape: 21.7209\n",
      "Epoch 17/20\n",
      "1451/1451 [==============================] - 247s 170ms/step - loss: 81.5638 - k_smape: 20.3153 - val_loss: 65.5084 - val_k_smape: 21.2767\n",
      "Epoch 18/20\n",
      "1451/1451 [==============================] - 247s 170ms/step - loss: 22968.5020 - k_smape: 40.6880 - val_loss: 1.2819 - val_k_smape: 30.7564\n",
      "Epoch 19/20\n",
      "1451/1451 [==============================] - 245s 169ms/step - loss: 1.0124 - k_smape: 25.0117 - val_loss: 0.7066 - val_k_smape: 20.8796\n",
      "Epoch 20/20\n",
      "1451/1451 [==============================] - 244s 168ms/step - loss: 0.5600 - k_smape: 20.4796 - val_loss: 0.3952 - val_k_smape: 21.0201\n"
     ]
    }
   ],
   "metadata": {}
  },
  {
   "cell_type": "code",
   "execution_count": 68,
   "source": [
    "y_pred=lstm_model.predict(val_x)\r\n",
    "score=lstm_model.evaluate(val_x,val_y,verbose=0)\r\n",
    "\r\n",
    "print('Symmetric Mean Absolute Percentage Error is: ', score[1])"
   ],
   "outputs": [
    {
     "output_type": "stream",
     "name": "stdout",
     "text": [
      "Symmetric Mean Absolute Percentage Error is:  21.020071029663086\n"
     ]
    }
   ],
   "metadata": {}
  },
  {
   "cell_type": "markdown",
   "source": [
    "## CNN-LSTM Model"
   ],
   "metadata": {}
  },
  {
   "cell_type": "code",
   "execution_count": 74,
   "source": [
    "cnn_model=Sequential()\r\n",
    "\r\n",
    "cnn_model.add(Conv1D(128,kernel_size=3,input_shape=(x_length,1),activation='relu'))\r\n",
    "cnn_model.add(Conv1D(64,activation='relu',kernel_size=3))\r\n",
    "cnn_model.add(MaxPooling1D(pool_size=2))\r\n",
    "cnn_model.add(LSTM(100,activation='relu'))\r\n",
    "cnn_model.add(Flatten())\r\n",
    "cnn_model.add(Dense(64,activation='linear'))\r\n",
    "\r\n",
    "cnn_model.compile(optimizer=Adam(),metrics=[k_smape],loss='mean_absolute_error')\r\n",
    "cnn_model.summary()"
   ],
   "outputs": [
    {
     "output_type": "stream",
     "name": "stdout",
     "text": [
      "Model: \"sequential_23\"\n",
      "_________________________________________________________________\n",
      "Layer (type)                 Output Shape              Param #   \n",
      "=================================================================\n",
      "conv1d_13 (Conv1D)           (None, 98, 128)           512       \n",
      "_________________________________________________________________\n",
      "conv1d_14 (Conv1D)           (None, 96, 64)            24640     \n",
      "_________________________________________________________________\n",
      "max_pooling1d_6 (MaxPooling1 (None, 48, 64)            0         \n",
      "_________________________________________________________________\n",
      "lstm_19 (LSTM)               (None, 100)               66000     \n",
      "_________________________________________________________________\n",
      "flatten_5 (Flatten)          (None, 100)               0         \n",
      "_________________________________________________________________\n",
      "dense_5 (Dense)              (None, 64)                6464      \n",
      "=================================================================\n",
      "Total params: 97,616\n",
      "Trainable params: 97,616\n",
      "Non-trainable params: 0\n",
      "_________________________________________________________________\n"
     ]
    }
   ],
   "metadata": {}
  },
  {
   "cell_type": "code",
   "execution_count": 75,
   "source": [
    "cnn_history=lstm_model.fit(train_x,train_y,epochs=20,batch_size=100,validation_data=(val_x,val_y))"
   ],
   "outputs": [
    {
     "output_type": "stream",
     "name": "stdout",
     "text": [
      "Epoch 1/20\n",
      "1451/1451 [==============================] - 319s 220ms/step - loss: 0.2117 - k_smape: 20.5773 - val_loss: 0.2100 - val_k_smape: 20.6379\n",
      "Epoch 2/20\n",
      "1451/1451 [==============================] - 304s 210ms/step - loss: 0.2097 - k_smape: 20.2815 - val_loss: 0.1944 - val_k_smape: 20.5973\n",
      "Epoch 3/20\n",
      "1451/1451 [==============================] - 295s 203ms/step - loss: 0.1932 - k_smape: 20.0218 - val_loss: 0.1911 - val_k_smape: 20.0227\n",
      "Epoch 4/20\n",
      "1451/1451 [==============================] - 301s 207ms/step - loss: 0.1903 - k_smape: 19.7615 - val_loss: 0.1975 - val_k_smape: 19.8864\n",
      "Epoch 5/20\n",
      "1451/1451 [==============================] - 288s 199ms/step - loss: 0.1900 - k_smape: 19.6116 - val_loss: 0.1978 - val_k_smape: 19.6934\n",
      "Epoch 6/20\n",
      "1451/1451 [==============================] - 282s 194ms/step - loss: 0.1917 - k_smape: 19.5492 - val_loss: 0.2006 - val_k_smape: 19.7418\n",
      "Epoch 7/20\n",
      "1451/1451 [==============================] - 293s 202ms/step - loss: 0.1936 - k_smape: 19.5143 - val_loss: 0.2042 - val_k_smape: 20.0064\n",
      "Epoch 8/20\n",
      "1451/1451 [==============================] - 282s 194ms/step - loss: 0.1933 - k_smape: 19.5045 - val_loss: 0.1849 - val_k_smape: 19.7788\n",
      "Epoch 9/20\n",
      "1451/1451 [==============================] - 282s 195ms/step - loss: 0.1798 - k_smape: 19.4565 - val_loss: 0.1742 - val_k_smape: 19.7784\n",
      "Epoch 10/20\n",
      "1451/1451 [==============================] - 483s 333ms/step - loss: 0.1682 - k_smape: 19.3836 - val_loss: 0.1706 - val_k_smape: 19.5800\n",
      "Epoch 11/20\n",
      "1451/1451 [==============================] - 291s 200ms/step - loss: 0.1677 - k_smape: 19.3727 - val_loss: 0.1720 - val_k_smape: 19.8053\n",
      "Epoch 12/20\n",
      "1451/1451 [==============================] - 276s 190ms/step - loss: 0.1674 - k_smape: 19.3632 - val_loss: 0.1709 - val_k_smape: 19.6993\n",
      "Epoch 13/20\n",
      "1451/1451 [==============================] - 255s 176ms/step - loss: 0.1670 - k_smape: 19.3476 - val_loss: 0.1695 - val_k_smape: 19.4535\n",
      "Epoch 14/20\n",
      "1451/1451 [==============================] - 254s 175ms/step - loss: 0.1666 - k_smape: 19.3333 - val_loss: 0.1711 - val_k_smape: 19.9223\n",
      "Epoch 15/20\n",
      "1451/1451 [==============================] - 270s 186ms/step - loss: 0.1662 - k_smape: 19.3104 - val_loss: 0.1708 - val_k_smape: 19.5411\n",
      "Epoch 16/20\n",
      "1451/1451 [==============================] - 282s 195ms/step - loss: 0.1659 - k_smape: 19.2958 - val_loss: 0.1753 - val_k_smape: 19.7350\n",
      "Epoch 17/20\n",
      "1451/1451 [==============================] - 266s 183ms/step - loss: 0.1654 - k_smape: 19.2776 - val_loss: 0.1697 - val_k_smape: 19.6724\n",
      "Epoch 18/20\n",
      "1451/1451 [==============================] - 270s 186ms/step - loss: 0.1650 - k_smape: 19.2651 - val_loss: 0.1741 - val_k_smape: 20.5803\n",
      "Epoch 19/20\n",
      "1451/1451 [==============================] - 266s 183ms/step - loss: 0.1648 - k_smape: 19.2744 - val_loss: 0.1700 - val_k_smape: 20.0404\n",
      "Epoch 20/20\n",
      "1451/1451 [==============================] - 261s 180ms/step - loss: 0.1647 - k_smape: 19.2561 - val_loss: 0.1659 - val_k_smape: 19.2021\n"
     ]
    }
   ],
   "metadata": {}
  },
  {
   "cell_type": "code",
   "execution_count": 76,
   "source": [
    "score=cnn_model.evaluate(val_x,val_y,verbose=0)\r\n",
    "\r\n",
    "print('Symmetric Mean Absolute Percentage Error is: ', score[1])"
   ],
   "outputs": [
    {
     "output_type": "stream",
     "name": "stdout",
     "text": [
      "Symmetric Mean Absolute Percentage Error is:  195.2789306640625\n"
     ]
    }
   ],
   "metadata": {}
  },
  {
   "cell_type": "code",
   "execution_count": 77,
   "source": [
    "fig,ax=plt.subplots(1,1)\r\n",
    "ax.set_xlabel('epoch');ax.set_ylabel('Symmetric Mean Absolute Percentage Error')\r\n",
    "\r\n",
    "x=list(range(1,20+1))\r\n",
    "\r\n",
    "vy = cnn_history.cnn_history['val_loss']\r\n",
    "ty = cnn_history.cnn_history['loss']\r\n",
    "plt_dynamic(x, vy, ty, ax)"
   ],
   "outputs": [
    {
     "output_type": "error",
     "ename": "AttributeError",
     "evalue": "'History' object has no attribute 'cnn_history'",
     "traceback": [
      "\u001b[1;31m---------------------------------------------------------------------------\u001b[0m",
      "\u001b[1;31mAttributeError\u001b[0m                            Traceback (most recent call last)",
      "\u001b[1;32m<ipython-input-77-834ecaf55e6a>\u001b[0m in \u001b[0;36m<module>\u001b[1;34m\u001b[0m\n\u001b[0;32m      4\u001b[0m \u001b[0mx\u001b[0m\u001b[1;33m=\u001b[0m\u001b[0mlist\u001b[0m\u001b[1;33m(\u001b[0m\u001b[0mrange\u001b[0m\u001b[1;33m(\u001b[0m\u001b[1;36m1\u001b[0m\u001b[1;33m,\u001b[0m\u001b[1;36m20\u001b[0m\u001b[1;33m+\u001b[0m\u001b[1;36m1\u001b[0m\u001b[1;33m)\u001b[0m\u001b[1;33m)\u001b[0m\u001b[1;33m\u001b[0m\u001b[1;33m\u001b[0m\u001b[0m\n\u001b[0;32m      5\u001b[0m \u001b[1;33m\u001b[0m\u001b[0m\n\u001b[1;32m----> 6\u001b[1;33m \u001b[0mvy\u001b[0m \u001b[1;33m=\u001b[0m \u001b[0mcnn_history\u001b[0m\u001b[1;33m.\u001b[0m\u001b[0mcnn_history\u001b[0m\u001b[1;33m[\u001b[0m\u001b[1;34m'val_loss'\u001b[0m\u001b[1;33m]\u001b[0m\u001b[1;33m\u001b[0m\u001b[1;33m\u001b[0m\u001b[0m\n\u001b[0m\u001b[0;32m      7\u001b[0m \u001b[0mty\u001b[0m \u001b[1;33m=\u001b[0m \u001b[0mcnn_history\u001b[0m\u001b[1;33m.\u001b[0m\u001b[0mcnn_history\u001b[0m\u001b[1;33m[\u001b[0m\u001b[1;34m'loss'\u001b[0m\u001b[1;33m]\u001b[0m\u001b[1;33m\u001b[0m\u001b[1;33m\u001b[0m\u001b[0m\n\u001b[0;32m      8\u001b[0m \u001b[0mplt_dynamic\u001b[0m\u001b[1;33m(\u001b[0m\u001b[0mx\u001b[0m\u001b[1;33m,\u001b[0m \u001b[0mvy\u001b[0m\u001b[1;33m,\u001b[0m \u001b[0mty\u001b[0m\u001b[1;33m,\u001b[0m \u001b[0max\u001b[0m\u001b[1;33m)\u001b[0m\u001b[1;33m\u001b[0m\u001b[1;33m\u001b[0m\u001b[0m\n",
      "\u001b[1;31mAttributeError\u001b[0m: 'History' object has no attribute 'cnn_history'"
     ]
    },
    {
     "output_type": "display_data",
     "data": {
      "image/png": "[encoded data removed]",
      "text/plain": [
       "<Figure size 432x288 with 1 Axes>"
      ]
     },
     "metadata": {
      "needs_background": "light"
     }
    }
   ],
   "metadata": {}
  },
  {
   "cell_type": "code",
   "execution_count": null,
   "source": [],
   "outputs": [],
   "metadata": {}
  }
 ],
 "metadata": {
  "orig_nbformat": 4,
  "language_info": {
   "name": "python",
   "version": "3.9.1",
   "mimetype": "text/x-python",
   "codemirror_mode": {
    "name": "ipython",
    "version": 3
   },
   "pygments_lexer": "ipython3",
   "nbconvert_exporter": "python",
   "file_extension": ".py"
  },
  "kernelspec": {
   "name": "python3",
   "display_name": "Python 3.9.1 64-bit ('site-packages-CzW6Js5D': pipenv)"
  },
  "interpreter": {
   "hash": "c7a7d558f1302316f7657cb205dbb6b639a7a4e49e3cc1489ff09fec7e8e0b6e"
  }
 },
 "nbformat": 4,
 "nbformat_minor": 2
}